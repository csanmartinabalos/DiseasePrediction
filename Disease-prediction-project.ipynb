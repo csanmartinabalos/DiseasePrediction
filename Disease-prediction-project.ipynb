{
 "cells": [
  {
   "cell_type": "code",
   "execution_count": 1,
   "id": "b0732694-9a15-467e-af4b-50b9f53f1a13",
   "metadata": {},
   "outputs": [],
   "source": [
    "import numpy as np\n",
    "import pandas as pd\n",
    "import matplotlib.pyplot as plt\n",
    "import seaborn as sns"
   ]
  },
  {
   "cell_type": "markdown",
   "id": "e1a1cf84-2708-41ed-b81c-56aa47d524ec",
   "metadata": {},
   "source": [
    "## DATA"
   ]
  },
  {
   "cell_type": "code",
   "execution_count": 2,
   "id": "8aee6a64-7c8c-48c4-af08-dcb90de046d5",
   "metadata": {},
   "outputs": [
    {
     "data": {
      "text/html": [
       "<div>\n",
       "<style scoped>\n",
       "    .dataframe tbody tr th:only-of-type {\n",
       "        vertical-align: middle;\n",
       "    }\n",
       "\n",
       "    .dataframe tbody tr th {\n",
       "        vertical-align: top;\n",
       "    }\n",
       "\n",
       "    .dataframe thead th {\n",
       "        text-align: right;\n",
       "    }\n",
       "</style>\n",
       "<table border=\"1\" class=\"dataframe\">\n",
       "  <thead>\n",
       "    <tr style=\"text-align: right;\">\n",
       "      <th></th>\n",
       "      <th>itching</th>\n",
       "      <th>skin_rash</th>\n",
       "      <th>nodal_skin_eruptions</th>\n",
       "      <th>continuous_sneezing</th>\n",
       "      <th>shivering</th>\n",
       "      <th>chills</th>\n",
       "      <th>joint_pain</th>\n",
       "      <th>stomach_pain</th>\n",
       "      <th>acidity</th>\n",
       "      <th>ulcers_on_tongue</th>\n",
       "      <th>...</th>\n",
       "      <th>scurring</th>\n",
       "      <th>skin_peeling</th>\n",
       "      <th>silver_like_dusting</th>\n",
       "      <th>small_dents_in_nails</th>\n",
       "      <th>inflammatory_nails</th>\n",
       "      <th>blister</th>\n",
       "      <th>red_sore_around_nose</th>\n",
       "      <th>yellow_crust_ooze</th>\n",
       "      <th>prognosis</th>\n",
       "      <th>Unnamed: 133</th>\n",
       "    </tr>\n",
       "  </thead>\n",
       "  <tbody>\n",
       "    <tr>\n",
       "      <th>0</th>\n",
       "      <td>1</td>\n",
       "      <td>1</td>\n",
       "      <td>1</td>\n",
       "      <td>0</td>\n",
       "      <td>0</td>\n",
       "      <td>0</td>\n",
       "      <td>0</td>\n",
       "      <td>0</td>\n",
       "      <td>0</td>\n",
       "      <td>0</td>\n",
       "      <td>...</td>\n",
       "      <td>0</td>\n",
       "      <td>0</td>\n",
       "      <td>0</td>\n",
       "      <td>0</td>\n",
       "      <td>0</td>\n",
       "      <td>0</td>\n",
       "      <td>0</td>\n",
       "      <td>0</td>\n",
       "      <td>Fungal infection</td>\n",
       "      <td>NaN</td>\n",
       "    </tr>\n",
       "    <tr>\n",
       "      <th>1</th>\n",
       "      <td>0</td>\n",
       "      <td>1</td>\n",
       "      <td>1</td>\n",
       "      <td>0</td>\n",
       "      <td>0</td>\n",
       "      <td>0</td>\n",
       "      <td>0</td>\n",
       "      <td>0</td>\n",
       "      <td>0</td>\n",
       "      <td>0</td>\n",
       "      <td>...</td>\n",
       "      <td>0</td>\n",
       "      <td>0</td>\n",
       "      <td>0</td>\n",
       "      <td>0</td>\n",
       "      <td>0</td>\n",
       "      <td>0</td>\n",
       "      <td>0</td>\n",
       "      <td>0</td>\n",
       "      <td>Fungal infection</td>\n",
       "      <td>NaN</td>\n",
       "    </tr>\n",
       "    <tr>\n",
       "      <th>2</th>\n",
       "      <td>1</td>\n",
       "      <td>0</td>\n",
       "      <td>1</td>\n",
       "      <td>0</td>\n",
       "      <td>0</td>\n",
       "      <td>0</td>\n",
       "      <td>0</td>\n",
       "      <td>0</td>\n",
       "      <td>0</td>\n",
       "      <td>0</td>\n",
       "      <td>...</td>\n",
       "      <td>0</td>\n",
       "      <td>0</td>\n",
       "      <td>0</td>\n",
       "      <td>0</td>\n",
       "      <td>0</td>\n",
       "      <td>0</td>\n",
       "      <td>0</td>\n",
       "      <td>0</td>\n",
       "      <td>Fungal infection</td>\n",
       "      <td>NaN</td>\n",
       "    </tr>\n",
       "  </tbody>\n",
       "</table>\n",
       "<p>3 rows × 134 columns</p>\n",
       "</div>"
      ],
      "text/plain": [
       "   itching  skin_rash  nodal_skin_eruptions  continuous_sneezing  shivering  \\\n",
       "0        1          1                     1                    0          0   \n",
       "1        0          1                     1                    0          0   \n",
       "2        1          0                     1                    0          0   \n",
       "\n",
       "   chills  joint_pain  stomach_pain  acidity  ulcers_on_tongue  ...  scurring  \\\n",
       "0       0           0             0        0                 0  ...         0   \n",
       "1       0           0             0        0                 0  ...         0   \n",
       "2       0           0             0        0                 0  ...         0   \n",
       "\n",
       "   skin_peeling  silver_like_dusting  small_dents_in_nails  \\\n",
       "0             0                    0                     0   \n",
       "1             0                    0                     0   \n",
       "2             0                    0                     0   \n",
       "\n",
       "   inflammatory_nails  blister  red_sore_around_nose  yellow_crust_ooze  \\\n",
       "0                   0        0                     0                  0   \n",
       "1                   0        0                     0                  0   \n",
       "2                   0        0                     0                  0   \n",
       "\n",
       "          prognosis  Unnamed: 133  \n",
       "0  Fungal infection           NaN  \n",
       "1  Fungal infection           NaN  \n",
       "2  Fungal infection           NaN  \n",
       "\n",
       "[3 rows x 134 columns]"
      ]
     },
     "execution_count": 2,
     "metadata": {},
     "output_type": "execute_result"
    }
   ],
   "source": [
    "raw_data = pd.read_csv('Training.csv')\n",
    "raw_test = pd.read_csv('Testing.csv')\n",
    "raw_data.head(3)"
   ]
  },
  {
   "cell_type": "code",
   "execution_count": 3,
   "id": "a83fb406-c648-4452-9f55-4e616514f3be",
   "metadata": {},
   "outputs": [
    {
     "data": {
      "text/html": [
       "<div>\n",
       "<style scoped>\n",
       "    .dataframe tbody tr th:only-of-type {\n",
       "        vertical-align: middle;\n",
       "    }\n",
       "\n",
       "    .dataframe tbody tr th {\n",
       "        vertical-align: top;\n",
       "    }\n",
       "\n",
       "    .dataframe thead th {\n",
       "        text-align: right;\n",
       "    }\n",
       "</style>\n",
       "<table border=\"1\" class=\"dataframe\">\n",
       "  <thead>\n",
       "    <tr style=\"text-align: right;\">\n",
       "      <th></th>\n",
       "      <th>itching</th>\n",
       "      <th>skin_rash</th>\n",
       "      <th>nodal_skin_eruptions</th>\n",
       "      <th>continuous_sneezing</th>\n",
       "      <th>shivering</th>\n",
       "      <th>chills</th>\n",
       "      <th>joint_pain</th>\n",
       "      <th>stomach_pain</th>\n",
       "      <th>acidity</th>\n",
       "      <th>ulcers_on_tongue</th>\n",
       "      <th>...</th>\n",
       "      <th>blackheads</th>\n",
       "      <th>scurring</th>\n",
       "      <th>skin_peeling</th>\n",
       "      <th>silver_like_dusting</th>\n",
       "      <th>small_dents_in_nails</th>\n",
       "      <th>inflammatory_nails</th>\n",
       "      <th>blister</th>\n",
       "      <th>red_sore_around_nose</th>\n",
       "      <th>yellow_crust_ooze</th>\n",
       "      <th>prognosis</th>\n",
       "    </tr>\n",
       "  </thead>\n",
       "  <tbody>\n",
       "    <tr>\n",
       "      <th>4917</th>\n",
       "      <td>0</td>\n",
       "      <td>0</td>\n",
       "      <td>0</td>\n",
       "      <td>0</td>\n",
       "      <td>0</td>\n",
       "      <td>0</td>\n",
       "      <td>0</td>\n",
       "      <td>0</td>\n",
       "      <td>0</td>\n",
       "      <td>0</td>\n",
       "      <td>...</td>\n",
       "      <td>0</td>\n",
       "      <td>0</td>\n",
       "      <td>0</td>\n",
       "      <td>0</td>\n",
       "      <td>0</td>\n",
       "      <td>0</td>\n",
       "      <td>0</td>\n",
       "      <td>0</td>\n",
       "      <td>0</td>\n",
       "      <td>Urinary tract infection</td>\n",
       "    </tr>\n",
       "    <tr>\n",
       "      <th>4918</th>\n",
       "      <td>0</td>\n",
       "      <td>1</td>\n",
       "      <td>0</td>\n",
       "      <td>0</td>\n",
       "      <td>0</td>\n",
       "      <td>0</td>\n",
       "      <td>1</td>\n",
       "      <td>0</td>\n",
       "      <td>0</td>\n",
       "      <td>0</td>\n",
       "      <td>...</td>\n",
       "      <td>0</td>\n",
       "      <td>0</td>\n",
       "      <td>1</td>\n",
       "      <td>1</td>\n",
       "      <td>1</td>\n",
       "      <td>1</td>\n",
       "      <td>0</td>\n",
       "      <td>0</td>\n",
       "      <td>0</td>\n",
       "      <td>Psoriasis</td>\n",
       "    </tr>\n",
       "    <tr>\n",
       "      <th>4919</th>\n",
       "      <td>0</td>\n",
       "      <td>1</td>\n",
       "      <td>0</td>\n",
       "      <td>0</td>\n",
       "      <td>0</td>\n",
       "      <td>0</td>\n",
       "      <td>0</td>\n",
       "      <td>0</td>\n",
       "      <td>0</td>\n",
       "      <td>0</td>\n",
       "      <td>...</td>\n",
       "      <td>0</td>\n",
       "      <td>0</td>\n",
       "      <td>0</td>\n",
       "      <td>0</td>\n",
       "      <td>0</td>\n",
       "      <td>0</td>\n",
       "      <td>1</td>\n",
       "      <td>1</td>\n",
       "      <td>1</td>\n",
       "      <td>Impetigo</td>\n",
       "    </tr>\n",
       "  </tbody>\n",
       "</table>\n",
       "<p>3 rows × 133 columns</p>\n",
       "</div>"
      ],
      "text/plain": [
       "      itching  skin_rash  nodal_skin_eruptions  continuous_sneezing  \\\n",
       "4917        0          0                     0                    0   \n",
       "4918        0          1                     0                    0   \n",
       "4919        0          1                     0                    0   \n",
       "\n",
       "      shivering  chills  joint_pain  stomach_pain  acidity  ulcers_on_tongue  \\\n",
       "4917          0       0           0             0        0                 0   \n",
       "4918          0       0           1             0        0                 0   \n",
       "4919          0       0           0             0        0                 0   \n",
       "\n",
       "      ...  blackheads  scurring  skin_peeling  silver_like_dusting  \\\n",
       "4917  ...           0         0             0                    0   \n",
       "4918  ...           0         0             1                    1   \n",
       "4919  ...           0         0             0                    0   \n",
       "\n",
       "      small_dents_in_nails  inflammatory_nails  blister  red_sore_around_nose  \\\n",
       "4917                     0                   0        0                     0   \n",
       "4918                     1                   1        0                     0   \n",
       "4919                     0                   0        1                     1   \n",
       "\n",
       "      yellow_crust_ooze                prognosis  \n",
       "4917                  0  Urinary tract infection  \n",
       "4918                  0                Psoriasis  \n",
       "4919                  1                 Impetigo  \n",
       "\n",
       "[3 rows x 133 columns]"
      ]
     },
     "execution_count": 3,
     "metadata": {},
     "output_type": "execute_result"
    }
   ],
   "source": [
    "data = raw_data.drop(['Unnamed: 133'], axis=1)\n",
    "data.tail(3)"
   ]
  },
  {
   "cell_type": "code",
   "execution_count": 4,
   "id": "801a1a99-0ad5-43a1-8952-adfdf2d9164f",
   "metadata": {},
   "outputs": [
    {
     "name": "stdout",
     "output_type": "stream",
     "text": [
      "<class 'pandas.core.frame.DataFrame'>\n",
      "RangeIndex: 4920 entries, 0 to 4919\n",
      "Columns: 133 entries, itching to prognosis\n",
      "dtypes: int64(132), object(1)\n",
      "memory usage: 5.0+ MB\n"
     ]
    }
   ],
   "source": [
    "data.info()"
   ]
  },
  {
   "cell_type": "code",
   "execution_count": 5,
   "id": "936a6b1c-f11b-4bc0-bbdf-b1f57ed28802",
   "metadata": {},
   "outputs": [
    {
     "data": {
      "text/plain": [
       "itching                  int64\n",
       "skin_rash                int64\n",
       "nodal_skin_eruptions     int64\n",
       "continuous_sneezing      int64\n",
       "shivering                int64\n",
       "                         ...  \n",
       "inflammatory_nails       int64\n",
       "blister                  int64\n",
       "red_sore_around_nose     int64\n",
       "yellow_crust_ooze        int64\n",
       "prognosis               object\n",
       "Length: 133, dtype: object"
      ]
     },
     "execution_count": 5,
     "metadata": {},
     "output_type": "execute_result"
    }
   ],
   "source": [
    "data.dtypes"
   ]
  },
  {
   "cell_type": "code",
   "execution_count": 6,
   "id": "e9b8f4e5-a7af-490f-b249-1a8d2318a9b9",
   "metadata": {},
   "outputs": [
    {
     "name": "stdout",
     "output_type": "stream",
     "text": [
      "itching                 False\n",
      "skin_rash               False\n",
      "nodal_skin_eruptions    False\n",
      "continuous_sneezing     False\n",
      "shivering               False\n",
      "                        ...  \n",
      "inflammatory_nails      False\n",
      "blister                 False\n",
      "red_sore_around_nose    False\n",
      "yellow_crust_ooze       False\n",
      "prognosis               False\n",
      "Length: 133, dtype: bool\n"
     ]
    }
   ],
   "source": [
    "print(data.isnull().any())"
   ]
  },
  {
   "cell_type": "code",
   "execution_count": 7,
   "id": "d8622cb6-79f3-4df0-9ef4-095c59b230bb",
   "metadata": {},
   "outputs": [
    {
     "data": {
      "text/plain": [
       "array(['Fungal infection', 'Allergy', 'GERD', 'Chronic cholestasis',\n",
       "       'Drug Reaction', 'Peptic ulcer diseae', 'AIDS', 'Diabetes ',\n",
       "       'Gastroenteritis', 'Bronchial Asthma', 'Hypertension ', 'Migraine',\n",
       "       'Cervical spondylosis', 'Paralysis (brain hemorrhage)', 'Jaundice',\n",
       "       'Malaria', 'Chicken pox', 'Dengue', 'Typhoid', 'hepatitis A',\n",
       "       'Hepatitis B', 'Hepatitis C', 'Hepatitis D', 'Hepatitis E',\n",
       "       'Alcoholic hepatitis', 'Tuberculosis', 'Common Cold', 'Pneumonia',\n",
       "       'Dimorphic hemmorhoids(piles)', 'Heart attack', 'Varicose veins',\n",
       "       'Hypothyroidism', 'Hyperthyroidism', 'Hypoglycemia',\n",
       "       'Osteoarthristis', 'Arthritis',\n",
       "       '(vertigo) Paroymsal  Positional Vertigo', 'Acne',\n",
       "       'Urinary tract infection', 'Psoriasis', 'Impetigo'], dtype=object)"
      ]
     },
     "execution_count": 7,
     "metadata": {},
     "output_type": "execute_result"
    }
   ],
   "source": [
    "data['prognosis'].unique()"
   ]
  },
  {
   "cell_type": "code",
   "execution_count": 8,
   "id": "2b39c026-5994-428a-96f7-a30265bfd589",
   "metadata": {},
   "outputs": [
    {
     "data": {
      "text/plain": [
       "41"
      ]
     },
     "execution_count": 8,
     "metadata": {},
     "output_type": "execute_result"
    }
   ],
   "source": [
    "data['prognosis'].unique().size"
   ]
  },
  {
   "cell_type": "code",
   "execution_count": 9,
   "id": "6547cf55-7a8f-45f7-9d4b-3e7bd4124083",
   "metadata": {},
   "outputs": [
    {
     "data": {
      "text/plain": [
       "prognosis\n",
       "Fungal infection                           120\n",
       "Hepatitis C                                120\n",
       "Hepatitis E                                120\n",
       "Alcoholic hepatitis                        120\n",
       "Tuberculosis                               120\n",
       "Common Cold                                120\n",
       "Pneumonia                                  120\n",
       "Dimorphic hemmorhoids(piles)               120\n",
       "Heart attack                               120\n",
       "Varicose veins                             120\n",
       "Hypothyroidism                             120\n",
       "Hyperthyroidism                            120\n",
       "Hypoglycemia                               120\n",
       "Osteoarthristis                            120\n",
       "Arthritis                                  120\n",
       "(vertigo) Paroymsal  Positional Vertigo    120\n",
       "Acne                                       120\n",
       "Urinary tract infection                    120\n",
       "Psoriasis                                  120\n",
       "Hepatitis D                                120\n",
       "Hepatitis B                                120\n",
       "Allergy                                    120\n",
       "hepatitis A                                120\n",
       "GERD                                       120\n",
       "Chronic cholestasis                        120\n",
       "Drug Reaction                              120\n",
       "Peptic ulcer diseae                        120\n",
       "AIDS                                       120\n",
       "Diabetes                                   120\n",
       "Gastroenteritis                            120\n",
       "Bronchial Asthma                           120\n",
       "Hypertension                               120\n",
       "Migraine                                   120\n",
       "Cervical spondylosis                       120\n",
       "Paralysis (brain hemorrhage)               120\n",
       "Jaundice                                   120\n",
       "Malaria                                    120\n",
       "Chicken pox                                120\n",
       "Dengue                                     120\n",
       "Typhoid                                    120\n",
       "Impetigo                                   120\n",
       "Name: count, dtype: int64"
      ]
     },
     "execution_count": 9,
     "metadata": {},
     "output_type": "execute_result"
    }
   ],
   "source": [
    "data['prognosis'].value_counts()"
   ]
  },
  {
   "cell_type": "markdown",
   "id": "4d770a51-589f-45f4-a205-43ef5126ce32",
   "metadata": {},
   "source": [
    "Vemos que nuestro set de datos esta limpio, sin faltantes, y nuestros datos para clasificación estan perfectamente equilibrados."
   ]
  },
  {
   "cell_type": "markdown",
   "id": "d0ee56a2-348f-45f6-b423-c5da510668da",
   "metadata": {},
   "source": [
    "## Codificación de datos categoricos"
   ]
  },
  {
   "cell_type": "code",
   "execution_count": 10,
   "id": "4e6b91b2-d166-45ca-934b-a9ee38733905",
   "metadata": {},
   "outputs": [],
   "source": [
    "## Etiquetado de prognosis\n",
    "from sklearn.preprocessing import LabelEncoder\n",
    "#data['prognosis'] = data['prognosis'].astype('category')\n",
    "df_final = data.copy()\n",
    "\n",
    "encoderLE = LabelEncoder()\n",
    "df_final['prognosis'] = encoderLE.fit_transform(df_final['prognosis'])"
   ]
  },
  {
   "cell_type": "markdown",
   "id": "916b8c1a-a8fb-4385-80a6-4d84f0854ae4",
   "metadata": {},
   "source": [
    "## Datos de entranamiento y validación"
   ]
  },
  {
   "cell_type": "code",
   "execution_count": 11,
   "id": "400adba9-1177-4e4f-bb28-b4912466ff21",
   "metadata": {},
   "outputs": [],
   "source": [
    "from sklearn.model_selection import train_test_split\n",
    "X = df_final.drop(['prognosis'], axis=1)\n",
    "Y = df_final['prognosis']\n",
    "\n",
    "xData = X.values\n",
    "yData = Y.values"
   ]
  },
  {
   "cell_type": "code",
   "execution_count": 12,
   "id": "99c7a18b-a93f-4f57-b78f-fe48fb45d9e0",
   "metadata": {},
   "outputs": [],
   "source": [
    "xTrain, xValid, yTrain, yValid = train_test_split(xData, yData, train_size=0.8, test_size=0.2, random_state=42)"
   ]
  },
  {
   "cell_type": "markdown",
   "id": "38feb4d9-ba28-4e59-9543-3c09f7ec199c",
   "metadata": {},
   "source": [
    "## Modelos"
   ]
  },
  {
   "cell_type": "code",
   "execution_count": 13,
   "id": "9d2a287d-b582-4cef-8be2-eaa7775f9ea7",
   "metadata": {},
   "outputs": [],
   "source": [
    "from sklearn.ensemble import RandomForestClassifier\n",
    "from sklearn.svm import SVC\n",
    "from sklearn.linear_model import SGDClassifier\n",
    "from sklearn.linear_model import LogisticRegression\n",
    "\n",
    "model_RFC = RandomForestClassifier()\n",
    "model_RFC.fit(xTrain, yTrain)\n",
    "yPred_RFC = model_RFC.predict(xValid)"
   ]
  },
  {
   "cell_type": "code",
   "execution_count": 14,
   "id": "26772d4b-53d6-40e3-8bf7-967ef39a0313",
   "metadata": {},
   "outputs": [],
   "source": [
    "model_SGD = SGDClassifier()\n",
    "model_SGD.fit(xTrain, yTrain)\n",
    "yPred_SGD = model_SGD.predict(xValid)\n",
    "\n",
    "model_LR = LogisticRegression()\n",
    "model_LR.fit(xTrain, yTrain)\n",
    "yPred_LR = model_LR.predict(xValid)"
   ]
  },
  {
   "cell_type": "markdown",
   "id": "ab8ed0b8-1e9b-412a-bd0d-94523125d59d",
   "metadata": {},
   "source": [
    "## Metricas"
   ]
  },
  {
   "cell_type": "code",
   "execution_count": 15,
   "id": "432a344f-c036-4ea3-b202-3c1505d39351",
   "metadata": {},
   "outputs": [
    {
     "name": "stdout",
     "output_type": "stream",
     "text": [
      "Random Forest Classifier\n",
      "Accuracy: 1.0\n",
      "Precision: 1.0\n",
      "Recall: 1.0\n",
      "F1 score: 1.0\n",
      "\n",
      "SGD Classifier\n",
      "Accuracy: 1.0\n",
      "Precision: 1.0\n",
      "Recall: 1.0\n",
      "F1 score: 1.0\n",
      "\n",
      "Logistic Regression\n",
      "Accuracy: 1.0\n",
      "Precision: 1.0\n",
      "Recall: 1.0\n",
      "F1 score: 1.0\n"
     ]
    }
   ],
   "source": [
    "from sklearn.metrics import accuracy_score, precision_score, recall_score, f1_score, confusion_matrix\n",
    "\n",
    "print('Random Forest Classifier')\n",
    "acc_RFC = accuracy_score(yValid, yPred_RFC)\n",
    "print('Accuracy:', acc_RFC)\n",
    "pre_RFC = precision_score(yValid, yPred_RFC, average='weighted')\n",
    "print('Precision:', pre_RFC)\n",
    "recall_RFC = recall_score(yValid, yPred_RFC, average='weighted')\n",
    "print('Recall:', recall_RFC)\n",
    "f1_RFC = f1_score(yValid, yPred_RFC, average='weighted')\n",
    "print('F1 score:', f1_RFC)\n",
    "\n",
    "print('\\nSGD Classifier')\n",
    "acc_SGD = accuracy_score(yValid, yPred_SGD)\n",
    "print('Accuracy:', acc_SGD)\n",
    "pre_SGD = precision_score(yValid, yPred_SGD, average='weighted')\n",
    "print('Precision:', pre_SGD)\n",
    "recall_SGD = recall_score(yValid, yPred_SGD, average='weighted')\n",
    "print('Recall:', recall_SGD)\n",
    "f1_SGD = f1_score(yValid, yPred_SGD, average='weighted')\n",
    "print('F1 score:', f1_SGD)\n",
    "\n",
    "print('\\nLogistic Regression')\n",
    "acc_LR = accuracy_score(yValid, yPred_LR)\n",
    "print('Accuracy:', acc_LR)\n",
    "pre_LR = precision_score(yValid, yPred_LR, average='weighted')\n",
    "print('Precision:', pre_LR)\n",
    "recall_LR = recall_score(yValid, yPred_LR, average='weighted')\n",
    "print('Recall:', recall_LR)\n",
    "f1_LR = f1_score(yValid, yPred_LR, average='weighted')\n",
    "print('F1 score:', f1_LR)"
   ]
  },
  {
   "cell_type": "markdown",
   "id": "baa15133-5b06-4354-b8d1-38f402c06d41",
   "metadata": {},
   "source": [
    "Como podemos ver los modelos funcionan de maravilla."
   ]
  },
  {
   "cell_type": "code",
   "execution_count": 16,
   "id": "24fc1676-e286-45b3-8d99-e81a5f7e8016",
   "metadata": {},
   "outputs": [
    {
     "data": {
      "image/png": "[encoded data removed]",
      "text/plain": [
       "<Figure size 1000x1000 with 2 Axes>"
      ]
     },
     "metadata": {},
     "output_type": "display_data"
    }
   ],
   "source": [
    "cf_matrix = confusion_matrix(yValid, yPred_RFC)\n",
    "plt.figure(figsize=(10,10))\n",
    "sns.heatmap(cf_matrix, annot=True)\n",
    "plt.show()"
   ]
  },
  {
   "cell_type": "markdown",
   "id": "836becd2-585a-4173-946b-65d8d36ad41e",
   "metadata": {},
   "source": [
    "## Probando el modelo con la conjunto de datos de Prueba"
   ]
  },
  {
   "cell_type": "code",
   "execution_count": 17,
   "id": "000c4631-5b3d-409b-a42a-46e9181ad8f5",
   "metadata": {
    "scrolled": true
   },
   "outputs": [],
   "source": [
    "#from sklearn.preprocessing import LabelEncoder\n",
    "#data['prognosis'] = data['prognosis'].astype('category')\n",
    "#df_final = data.copy()\n",
    "\n",
    "#encoderLE = LabelEncoder()\n",
    "#df_final['prognosis'] = encoderLE.fit_transform(df_final['prognosis'])"
   ]
  },
  {
   "cell_type": "code",
   "execution_count": 22,
   "id": "ed631f93-1676-4a53-8175-5527da1d37f6",
   "metadata": {},
   "outputs": [],
   "source": [
    "test_data = pd.read_csv(\"Testing.csv\").dropna(axis=1)\n",
    " \n",
    "test_X = test_data.iloc[:, :-1]\n",
    "test_Y = encoderLE.transform(test_data.iloc[:, -1])"
   ]
  },
  {
   "cell_type": "code",
   "execution_count": 24,
   "id": "0dfe2f1e-f0c5-4189-b3f8-363bf9e07997",
   "metadata": {},
   "outputs": [
    {
     "name": "stderr",
     "output_type": "stream",
     "text": [
      "C:\\Users\\claud\\anaconda3\\envs\\python3_TF20\\Lib\\site-packages\\sklearn\\base.py:458: UserWarning: X has feature names, but RandomForestClassifier was fitted without feature names\n",
      "  warnings.warn(\n",
      "C:\\Users\\claud\\anaconda3\\envs\\python3_TF20\\Lib\\site-packages\\sklearn\\base.py:458: UserWarning: X has feature names, but SGDClassifier was fitted without feature names\n",
      "  warnings.warn(\n",
      "C:\\Users\\claud\\anaconda3\\envs\\python3_TF20\\Lib\\site-packages\\sklearn\\base.py:458: UserWarning: X has feature names, but LogisticRegression was fitted without feature names\n",
      "  warnings.warn(\n"
     ]
    }
   ],
   "source": [
    "yPred_RFC_Test = model_RFC.predict(test_X)\n",
    "yPred_SGD_Test = model_SGD.predict(test_X)\n",
    "yPred_LR_Test = model_LR.predict(test_X)"
   ]
  },
  {
   "cell_type": "code",
   "execution_count": 26,
   "id": "211e344f-939b-411f-955d-1cc822260617",
   "metadata": {},
   "outputs": [
    {
     "name": "stdout",
     "output_type": "stream",
     "text": [
      "Random Forest Classifier\n",
      "Accuracy: 0.9761904761904762\n",
      "\n",
      "SGD Classifier\n",
      "Accuracy: 1.0\n",
      "\n",
      "Logistic Regression\n",
      "Accuracy: 1.0\n"
     ]
    }
   ],
   "source": [
    "print('Random Forest Classifier')\n",
    "acc_RFC_Test = accuracy_score(test_Y, yPred_RFC_Test)\n",
    "print('Accuracy:', acc_RFC_Test)\n",
    "\n",
    "\n",
    "print('\\nSGD Classifier')\n",
    "acc_SGD_Test = accuracy_score(test_Y, yPred_SGD_Test)\n",
    "print('Accuracy:', acc_SGD_Test)\n",
    "\n",
    "\n",
    "print('\\nLogistic Regression')\n",
    "acc_LR_Test = accuracy_score(test_Y, yPred_LR_Test)\n",
    "print('Accuracy:', acc_LR_Test)\n"
   ]
  },
  {
   "cell_type": "code",
   "execution_count": null,
   "id": "4723d0e7-51e2-43fa-8fac-36b362d977bb",
   "metadata": {},
   "outputs": [],
   "source": []
  },
  {
   "cell_type": "code",
   "execution_count": null,
   "id": "29ec7d27-09ad-48b2-a1a3-82e3a12107b8",
   "metadata": {},
   "outputs": [],
   "source": []
  },
  {
   "cell_type": "code",
   "execution_count": null,
   "id": "971acbb0-172f-4efb-84fd-2be6f10de466",
   "metadata": {},
   "outputs": [],
   "source": []
  }
 ],
 "metadata": {
  "kernelspec": {
   "display_name": "Python 3 (ipykernel)",
   "language": "python",
   "name": "python3"
  },
  "language_info": {
   "codemirror_mode": {
    "name": "ipython",
    "version": 3
   },
   "file_extension": ".py",
   "mimetype": "text/x-python",
   "name": "python",
   "nbconvert_exporter": "python",
   "pygments_lexer": "ipython3",
   "version": "3.11.5"
  }
 },
 "nbformat": 4,
 "nbformat_minor": 5
}
